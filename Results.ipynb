{
 "cells": [
  {
   "cell_type": "code",
   "execution_count": 1,
   "id": "coordinated-heaven",
   "metadata": {},
   "outputs": [],
   "source": [
    "import pandas as pd"
   ]
  },
  {
   "cell_type": "code",
   "execution_count": 2,
   "id": "offshore-girlfriend",
   "metadata": {},
   "outputs": [],
   "source": [
    "df = pd.read_csv('Dataset/Result.csv')"
   ]
  },
  {
   "cell_type": "code",
   "execution_count": 6,
   "id": "affiliated-parks",
   "metadata": {},
   "outputs": [
    {
     "data": {
      "text/plain": [
       "SentimentTitle      -0.001886\n",
       "SentimentHeadline   -0.024601\n",
       "sub                  0.022715\n",
       "dtype: float64"
      ]
     },
     "execution_count": 6,
     "metadata": {},
     "output_type": "execute_result"
    }
   ],
   "source": [
    "df.mean(axis=0)"
   ]
  },
  {
   "cell_type": "code",
   "execution_count": 7,
   "id": "useful-growth",
   "metadata": {},
   "outputs": [
    {
     "data": {
      "text/html": [
       "<div>\n",
       "<style scoped>\n",
       "    .dataframe tbody tr th:only-of-type {\n",
       "        vertical-align: middle;\n",
       "    }\n",
       "\n",
       "    .dataframe tbody tr th {\n",
       "        vertical-align: top;\n",
       "    }\n",
       "\n",
       "    .dataframe thead th {\n",
       "        text-align: right;\n",
       "    }\n",
       "</style>\n",
       "<table border=\"1\" class=\"dataframe\">\n",
       "  <thead>\n",
       "    <tr style=\"text-align: right;\">\n",
       "      <th></th>\n",
       "      <th>IDLink</th>\n",
       "      <th>SentimentTitle</th>\n",
       "      <th>SentimentHeadline</th>\n",
       "      <th>sub</th>\n",
       "    </tr>\n",
       "  </thead>\n",
       "  <tbody>\n",
       "    <tr>\n",
       "      <th>0</th>\n",
       "      <td>tFrqIR6Chj</td>\n",
       "      <td>0.148877</td>\n",
       "      <td>-0.038287</td>\n",
       "      <td>0.187164</td>\n",
       "    </tr>\n",
       "    <tr>\n",
       "      <th>1</th>\n",
       "      <td>DVAaGErjlF</td>\n",
       "      <td>-0.130587</td>\n",
       "      <td>0.065017</td>\n",
       "      <td>-0.195604</td>\n",
       "    </tr>\n",
       "    <tr>\n",
       "      <th>2</th>\n",
       "      <td>OT9UIZm5M2</td>\n",
       "      <td>0.048962</td>\n",
       "      <td>-0.149408</td>\n",
       "      <td>0.198369</td>\n",
       "    </tr>\n",
       "    <tr>\n",
       "      <th>3</th>\n",
       "      <td>lflGp3q2Fj</td>\n",
       "      <td>-0.163677</td>\n",
       "      <td>-0.149336</td>\n",
       "      <td>-0.014341</td>\n",
       "    </tr>\n",
       "    <tr>\n",
       "      <th>4</th>\n",
       "      <td>zDYG0SoovZ</td>\n",
       "      <td>-0.078282</td>\n",
       "      <td>0.118750</td>\n",
       "      <td>-0.197032</td>\n",
       "    </tr>\n",
       "    <tr>\n",
       "      <th>...</th>\n",
       "      <td>...</td>\n",
       "      <td>...</td>\n",
       "      <td>...</td>\n",
       "      <td>...</td>\n",
       "    </tr>\n",
       "    <tr>\n",
       "      <th>37283</th>\n",
       "      <td>5bYaKaEyN3</td>\n",
       "      <td>0.097046</td>\n",
       "      <td>-0.029046</td>\n",
       "      <td>0.126092</td>\n",
       "    </tr>\n",
       "    <tr>\n",
       "      <th>37284</th>\n",
       "      <td>jmnC32Uh5u</td>\n",
       "      <td>0.010646</td>\n",
       "      <td>0.005575</td>\n",
       "      <td>0.005071</td>\n",
       "    </tr>\n",
       "    <tr>\n",
       "      <th>37285</th>\n",
       "      <td>yPhgBwobV0</td>\n",
       "      <td>0.224867</td>\n",
       "      <td>-0.061012</td>\n",
       "      <td>0.285879</td>\n",
       "    </tr>\n",
       "    <tr>\n",
       "      <th>37286</th>\n",
       "      <td>adFcODOaiQ</td>\n",
       "      <td>0.050170</td>\n",
       "      <td>0.016874</td>\n",
       "      <td>0.033296</td>\n",
       "    </tr>\n",
       "    <tr>\n",
       "      <th>37287</th>\n",
       "      <td>y3DArgHOmr</td>\n",
       "      <td>-0.052697</td>\n",
       "      <td>-0.130694</td>\n",
       "      <td>0.077997</td>\n",
       "    </tr>\n",
       "  </tbody>\n",
       "</table>\n",
       "<p>37288 rows × 4 columns</p>\n",
       "</div>"
      ],
      "text/plain": [
       "           IDLink  SentimentTitle  SentimentHeadline       sub\n",
       "0      tFrqIR6Chj        0.148877          -0.038287  0.187164\n",
       "1      DVAaGErjlF       -0.130587           0.065017 -0.195604\n",
       "2      OT9UIZm5M2        0.048962          -0.149408  0.198369\n",
       "3      lflGp3q2Fj       -0.163677          -0.149336 -0.014341\n",
       "4      zDYG0SoovZ       -0.078282           0.118750 -0.197032\n",
       "...           ...             ...                ...       ...\n",
       "37283  5bYaKaEyN3        0.097046          -0.029046  0.126092\n",
       "37284  jmnC32Uh5u        0.010646           0.005575  0.005071\n",
       "37285  yPhgBwobV0        0.224867          -0.061012  0.285879\n",
       "37286  adFcODOaiQ        0.050170           0.016874  0.033296\n",
       "37287  y3DArgHOmr       -0.052697          -0.130694  0.077997\n",
       "\n",
       "[37288 rows x 4 columns]"
      ]
     },
     "execution_count": 7,
     "metadata": {},
     "output_type": "execute_result"
    }
   ],
   "source": [
    "df"
   ]
  },
  {
   "cell_type": "code",
   "execution_count": null,
   "id": "subsequent-interstate",
   "metadata": {},
   "outputs": [],
   "source": [
    "import numpy as np"
   ]
  }
 ],
 "metadata": {
  "kernelspec": {
   "display_name": "PyCharm (NLP-Project)",
   "language": "python",
   "name": "pycharm-41a32bf6"
  },
  "language_info": {
   "codemirror_mode": {
    "name": "ipython",
    "version": 3
   },
   "file_extension": ".py",
   "mimetype": "text/x-python",
   "name": "python",
   "nbconvert_exporter": "python",
   "pygments_lexer": "ipython3",
   "version": "3.8.5"
  }
 },
 "nbformat": 4,
 "nbformat_minor": 5
}
